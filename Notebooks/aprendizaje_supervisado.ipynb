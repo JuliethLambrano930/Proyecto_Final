{
 "cells": [
  {
   "cell_type": "markdown",
   "metadata": {},
   "source": [
    "# Proyecto Final Machine Learning\n",
    "\n",
    "- Linnethy Julieth Lambraño Pérez\n",
    "- Diego Armando Corredor Rivera"
   ]
  }
 ],
 "metadata": {
  "language_info": {
   "name": "python"
  }
 },
 "nbformat": 4,
 "nbformat_minor": 2
}
